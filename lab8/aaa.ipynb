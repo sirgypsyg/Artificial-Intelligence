{
 "cells": [
  {
   "cell_type": "code",
   "execution_count": 285,
   "metadata": {},
   "outputs": [],
   "source": [
    "import numpy as np\n",
    "\n",
    "def sigmoid(x):\n",
    "    return 1 / (1 + np.exp(-x))\n",
    "\n",
    "def sigmoid_derivative(x):\n",
    "    return x * (1 - x)\n",
    "\n",
    "class SimpleNN:\n",
    "    def __init__(self, input_size, hidden_size1, hidden_size2, output_size):\n",
    "        self.hidden_weights1 = np.random.randn(input_size, hidden_size1)\n",
    "        self.hidden_bias1 = np.zeros((1, hidden_size1))\n",
    "        self.hidden_weights2 = np.random.randn(hidden_size1, hidden_size2)\n",
    "        self.hidden_bias2 = np.zeros((1, hidden_size2))\n",
    "        self.output_weights = np.random.randn(hidden_size2, output_size)\n",
    "        self.output_bias = np.zeros((1, output_size))\n",
    "\n",
    "    def forward(self, X):\n",
    "        #propagacja przednia przez hidden layer1\n",
    "        self.hidden_layer_input1 = np.dot(X, self.hidden_weights1) + self.hidden_bias1\n",
    "        self.hidden_layer_output1 = sigmoid(self.hidden_layer_input1)\n",
    "        \n",
    "        #propagacja przednia przez hidden layer2\n",
    "        self.hidden_layer_input2 = np.dot(self.hidden_layer_output1, self.hidden_weights2) + self.hidden_bias2\n",
    "        self.hidden_layer_output2 = sigmoid(self.hidden_layer_input2)\n",
    "        \n",
    "        #propagacja przednia przez output layer\n",
    "        self.output_layer_input = np.dot(self.hidden_layer_output2, self.output_weights) + self.output_bias\n",
    "        self.output = sigmoid(self.output_layer_input)\n",
    "        \n",
    "        return self.output\n",
    "\n",
    "    def backward(self, X, y, output):\n",
    "        #obliczanie errroru   |0.3 - 1|^2\n",
    "        output_error = y - output\n",
    "        output_delta = output_error * sigmoid_derivative(output)\n",
    "\n",
    "        #blad dla drugiej warstwy ukrytej\n",
    "        hidden_error2 = output_delta.dot(self.output_weights.T)\n",
    "        hidden_delta2 = hidden_error2 * sigmoid_derivative(self.hidden_layer_output2)\n",
    "\n",
    "        #blad dla pierszej warstwy ukrytej\n",
    "        hidden_error1 = hidden_delta2.dot(self.hidden_weights2.T)\n",
    "        hidden_delta1 = hidden_error1 * sigmoid_derivative(self.hidden_layer_output1)\n",
    "\n",
    "        #aktualizacja wag i biasow\n",
    "        self.output_weights += 0.1 * self.hidden_layer_output2.T.dot(output_delta)\n",
    "        self.output_bias += 0.1 * np.mean(output_delta, axis=0, keepdims=True)\n",
    "\n",
    "        self.hidden_weights2 += 0.1 * self.hidden_layer_output1.T.dot(hidden_delta2)\n",
    "        self.hidden_bias2 += 0.1 * np.mean(hidden_delta2, axis=0, keepdims=True)\n",
    "\n",
    "        self.hidden_weights1 += 0.1 * X.T.dot(hidden_delta1)\n",
    "        self.hidden_bias1 += 0.1 * np.mean(hidden_delta1, axis=0, keepdims=True)\n",
    "\n",
    "    def train(self, X, y, epochs=1000):\n",
    "        for _ in range(epochs):\n",
    "            output = self.forward(X)\n",
    "            self.backward(X, y, output)\n",
    "\n",
    "    def predict(self, X):\n",
    "        return self.forward(X)\n"
   ]
  },
  {
   "cell_type": "code",
   "execution_count": 286,
   "metadata": {},
   "outputs": [
    {
     "name": "stdout",
     "output_type": "stream",
     "text": [
      "Przewidywania po treningu:\n",
      "[[0.02267006]\n",
      " [0.97265858]\n",
      " [0.97323399]\n",
      " [0.03018532]]\n"
     ]
    }
   ],
   "source": [
    "    import numpy as np\n",
    "    X = np.array([[0, 0], [0, 1], [1, 0], [1, 1]])\n",
    "    y = np.array([[0], [1], [1], [0]])\n",
    "\n",
    "    nn = SimpleNN(input_size=2, hidden_size1=4, hidden_size2=4, output_size=1)\n",
    "\n",
    "    nn.train(X, y, epochs=10000)\n",
    "\n",
    "    # nn.forward(X)\n",
    "    # nn.backward(X, y, nn.forward(X))\n",
    "\n",
    "    predictions = nn.predict(X)\n",
    "    print(predictions)"
   ]
  },
  {
   "cell_type": "code",
   "execution_count": null,
   "metadata": {},
   "outputs": [],
   "source": []
  }
 ],
 "metadata": {
  "kernelspec": {
   "display_name": "Python 3",
   "language": "python",
   "name": "python3"
  },
  "language_info": {
   "codemirror_mode": {
    "name": "ipython",
    "version": 3
   },
   "file_extension": ".py",
   "mimetype": "text/x-python",
   "name": "python",
   "nbconvert_exporter": "python",
   "pygments_lexer": "ipython3",
   "version": "3.12.1"
  }
 },
 "nbformat": 4,
 "nbformat_minor": 2
}
